{
 "cells": [
  {
   "cell_type": "code",
   "execution_count": null,
   "id": "c58829d9",
   "metadata": {},
   "outputs": [],
   "source": [
    "import torch\n",
    "\n",
    "               "
   ]
  },
  {
   "cell_type": "code",
   "execution_count": null,
   "id": "64fb9aa3",
   "metadata": {},
   "outputs": [],
   "source": [
    "#Reduction\n",
    "x = torch.arange(3, dtype=torch.float32)\n",
    "print(x)\n",
    "print(f\"sum of tensor's element:  {x.sum()}\")\n",
    "\n",
    "A = torch.arange(45).reshape(5, 9)\n",
    "print(A)\n",
    "print(f\"shape of A: {A.shape}\")\n",
    "# sum along the first axis (columns)\n",
    "print(f\"sum of columns: {A.sum(axis=0)}\") \n",
    "# sum along the second axis (rows)\n",
    "print(f\"sum of rows: {A.sum(axis=1)}\") "
   ]
  },
  {
   "cell_type": "code",
   "execution_count": null,
   "id": "37e793cb",
   "metadata": {},
   "outputs": [],
   "source": []
  }
 ],
 "metadata": {
  "kernelspec": {
   "display_name": ".venv",
   "language": "python",
   "name": "python3"
  },
  "language_info": {
   "codemirror_mode": {
    "name": "ipython",
    "version": 3
   },
   "file_extension": ".py",
   "mimetype": "text/x-python",
   "name": "python",
   "nbconvert_exporter": "python",
   "pygments_lexer": "ipython3",
   "version": "3.10.16"
  }
 },
 "nbformat": 4,
 "nbformat_minor": 5
}
