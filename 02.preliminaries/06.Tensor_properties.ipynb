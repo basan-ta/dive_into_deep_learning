{
 "cells": [
  {
   "cell_type": "code",
   "execution_count": null,
   "id": "c58829d9",
   "metadata": {},
   "outputs": [],
   "source": [
    "import torch\n",
    "\n",
    "               "
   ]
  },
  {
   "cell_type": "code",
   "execution_count": null,
   "id": "64fb9aa3",
   "metadata": {},
   "outputs": [],
   "source": [
    "#Reduction\n",
    "x = torch.arange(9)\n",
    "print(x)\n",
    "print(f\"sum of tensor's element:  {x.sum()}\")\n",
    "\n",
    "A = torch.arange(45).reshape(5, 9)\n",
    "print(A)\n",
    "print(f\"shape of A: {A.shape}\")\n",
    "# sum along the first axis (columns)\n",
    "print(f\"sum of columns: {A.sum(axis=0)}\") \n",
    "# sum along the second axis (rows)\n",
    "print(f\"sum of rows: {A.sum(axis=1)}\") \n",
    "\n",
    "#cumulative sum\n",
    "print(A.sum() == A.sum(axis=[0, 1]))"
   ]
  },
  {
   "cell_type": "code",
   "execution_count": null,
   "id": "9ce66f00",
   "metadata": {},
   "outputs": [],
   "source": [
    "#non-reduction sum \n",
    "sum_A = A.sum(axis=1, keepdims =True)\n",
    "print(f\"sum of rows with keepdims: {sum_A}\")\n",
    "print(f\"shape of A: {A.shape}\")\n",
    "print(f\"shape of sum_A: {sum_A.shape}\")\n",
    "\n",
    "#same for columns \n",
    "sum_A_col = A.sum(axis=0, keepdims=True)\n",
    "print(f\"sum of columns with keepdims: {sum_A_col}\")\n",
    "print(f\"shape of sum_A_col: {sum_A_col.shape}\")\n",
    "\n",
    "print(A/sum_A)"
   ]
  },
  {
   "cell_type": "code",
   "execution_count": null,
   "id": "37e793cb",
   "metadata": {},
   "outputs": [],
   "source": [
    "#dot product (inner product):  x tranpose(y)\n",
    "y = torch.ones(9)\n",
    "print(f\"dot product of x and y: {torch.dot(x,y)}\")"
   ]
  },
  {
   "cell_type": "code",
   "execution_count": null,
   "id": "8ba2d3bf",
   "metadata": {},
   "outputs": [],
   "source": [
    "'''matrix- vector product\n",
    "m * n matrix A and n - dimensional vector x\n",
    "result is m - dimensional vector'''\n",
    "\n",
    "print(\"/n\",A.shape)\n",
    "print(\"/n\",x.shape)\n",
    "\n",
    "#so here n = 9 ,we can perform matrix-vector product, Here @ is used for matrix-vector or matrix-matrix multiplication\n",
    "print(f\"matrix-vector product: {torch.mv(A, x), A@x}\")\n"
   ]
  }
 ],
 "metadata": {
  "kernelspec": {
   "display_name": ".venv",
   "language": "python",
   "name": "python3"
  },
  "language_info": {
   "codemirror_mode": {
    "name": "ipython",
    "version": 3
   },
   "file_extension": ".py",
   "mimetype": "text/x-python",
   "name": "python",
   "nbconvert_exporter": "python",
   "pygments_lexer": "ipython3",
   "version": "3.10.16"
  }
 },
 "nbformat": 4,
 "nbformat_minor": 5
}
