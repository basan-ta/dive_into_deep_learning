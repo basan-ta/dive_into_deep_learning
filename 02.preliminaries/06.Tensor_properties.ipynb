{
 "cells": [
  {
   "cell_type": "code",
   "execution_count": null,
   "id": "c58829d9",
   "metadata": {},
   "outputs": [],
   "source": [
    "import torch\n",
    "\n",
    "               "
   ]
  },
  {
   "cell_type": "code",
   "execution_count": null,
   "id": "64fb9aa3",
   "metadata": {},
   "outputs": [
    {
     "name": "stdout",
     "output_type": "stream",
     "text": [
      "tensor([0., 1., 2.])\n",
      "sum of tensor's element:  3.0\n",
      "tensor([[ 0,  1,  2,  3,  4,  5,  6,  7,  8],\n",
      "        [ 9, 10, 11, 12, 13, 14, 15, 16, 17],\n",
      "        [18, 19, 20, 21, 22, 23, 24, 25, 26],\n",
      "        [27, 28, 29, 30, 31, 32, 33, 34, 35],\n",
      "        [36, 37, 38, 39, 40, 41, 42, 43, 44]])\n",
      "shape of A: torch.Size([5, 9])\n",
      "sum of columns: tensor([ 90,  95, 100, 105, 110, 115, 120, 125, 130])\n",
      "tensor([ 36, 117, 198, 279, 360])\n"
     ]
    }
   ],
   "source": [
    "#Reduction\n",
    "x = torch.arange(3, dtype=torch.float32)\n",
    "print(x)\n",
    "print(f\"sum of tensor's element:  {x.sum()}\")\n",
    "\n",
    "A = torch.arange(45).reshape(5, 9)\n",
    "print(A)\n",
    "print(f\"shape of A: {A.shape}\")\n",
    "# sum along the first axis (columns)\n",
    "print(f\"sum of columns: {A.sum(axis=0)}\") \n",
    "# sum along the second axis (rows)\n",
    "print(f\"sum of rows: {A.sum(axis=1)}\") "
   ]
  },
  {
   "cell_type": "code",
   "execution_count": null,
   "id": "37e793cb",
   "metadata": {},
   "outputs": [],
   "source": []
  }
 ],
 "metadata": {
  "kernelspec": {
   "display_name": ".venv",
   "language": "python",
   "name": "python3"
  },
  "language_info": {
   "codemirror_mode": {
    "name": "ipython",
    "version": 3
   },
   "file_extension": ".py",
   "mimetype": "text/x-python",
   "name": "python",
   "nbconvert_exporter": "python",
   "pygments_lexer": "ipython3",
   "version": "3.10.16"
  }
 },
 "nbformat": 4,
 "nbformat_minor": 5
}
