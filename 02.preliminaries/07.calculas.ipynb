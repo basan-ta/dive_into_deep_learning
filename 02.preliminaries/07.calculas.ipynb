{
 "cells": [
  {
   "cell_type": "code",
   "execution_count": null,
   "id": "a4bb16a4",
   "metadata": {},
   "outputs": [],
   "source": [
    "#matplotlib inline \n",
    "import numpy as np \n",
    "from matplotlib_inline import backend_inline\n",
    "from d2l import torch as d2l"
   ]
  },
  {
   "cell_type": "code",
   "execution_count": null,
   "id": "122f47d8",
   "metadata": {},
   "outputs": [],
   "source": [
    "def f(x):\n",
    "    return 3*x**2 - 4*x + 5\n",
    "for h in 10.0**np.arange(-1, -16, -1):\n",
    "    print(f'h={h: .5f}, numerial limit = (f(1+h)-f(1))/h={ (f(1+h)-f(1))/h :.5f}')"
   ]
  },
  {
   "cell_type": "code",
   "execution_count": null,
   "id": "a5eb5ce3",
   "metadata": {},
   "outputs": [],
   "source": [
    "def use_svg_display(): #@save\n",
    "    \"\"\"use the svg format to display a plot in jupyter\"\"\"\n",
    "    backend_inline.set_matplotlib_formats('svg')"
   ]
  },
  {
   "cell_type": "code",
   "execution_count": null,
   "id": "fb672f93",
   "metadata": {},
   "outputs": [],
   "source": [
    "#to set fig size \n",
    "def set_figsize(figsize=(3.5, 2.5)): #@save\n",
    "    \"\"\"set the figure size for matplotlib\"\"\"\n",
    "    use_svg_display()\n",
    "    d2l.plt.rcParams['figure.figsize'] = figsize\n",
    "    "
   ]
  },
  {
   "cell_type": "code",
   "execution_count": null,
   "id": "df3370e5",
   "metadata": {},
   "outputs": [],
   "source": [
    "#set_axes \n",
    "def set_axes(axes, xlabel, ylabel, xlim, ylim, xscale, yscale, legend):\n",
    "    \"\"\"set the axes for matplotlib\"\"\"\n",
    "    axes.set_xlabel(xlabel),\n",
    "    axes.set_ylabel(ylabel),\n",
    "    axes.set_xscale(xscale),\n",
    "    axes.set_yscale(yscale),\n",
    "    axes.set_xlim(xlim),\n",
    "    axes.set_ylim(ylim),\n",
    "    if legend:\n",
    "        axes.legend(legend) \n",
    "    axes.grid()"
   ]
  },
  {
   "cell_type": "code",
   "execution_count": null,
   "id": "a8c29d97",
   "metadata": {},
   "outputs": [],
   "source": [
    "#@save\n",
    "def plot(X, Y=None, xlabel=None, ylabel=None, legend=None, xlim=None,\n",
    "         ylim=None, xscale='linear', yscale='linear',\n",
    "         fmts=('-', 'm--', 'g-.', 'r:'), figsize=(3.5, 2.5), axes=None):\n",
    "    \"\"\"Plot data points.\"\"\"\n",
    "    def has_one_axis(X): #Ture if x(tensor or list has one axis )\n",
    "        return (hasattr(X, 'ndim') and X.ndim == 1 or isinstance(X, list) and len(X) > 0 and isinstance(X[0], list))\n",
    "    if has_one_axis(X):\n",
    "        X = [X]\n",
    "    if Y is None:\n",
    "        X, Y = [[]] * len(X), X\n",
    "    elif has_one_axis(Y):\n",
    "        Y = [Y]\n",
    "    if len(X) != len(Y):\n",
    "        X = X * len(Y)\n",
    "    set_figsize(figsize)\n",
    "    if axes is None:\n",
    "        axes = d2l.plt.gca()\n",
    "    for x, y, fmt in zip(X, Y, fmts):\n",
    "        axes.plot(x, y, fmt) if len(x) else axes.plot(y, fmt)\n",
    "    set_axes(axes, xlabel, ylabel, xlim, ylim, xscale, yscale, legend)\n",
    "        "
   ]
  },
  {
   "cell_type": "code",
   "execution_count": null,
   "id": "3ffa47f0",
   "metadata": {},
   "outputs": [],
   "source": [
    "x = np.arange(0, 3, 0.1)\n",
    "plot(x, [f(x), 2 * x -3], 'x', 'f(x)', legend=['f(x)', 'tangent line (x=1)'])"
   ]
  },
  {
   "cell_type": "code",
   "execution_count": null,
   "id": "14b71d64",
   "metadata": {},
   "outputs": [],
   "source": []
  }
 ],
 "metadata": {
  "kernelspec": {
   "display_name": ".venv",
   "language": "python",
   "name": "python3"
  },
  "language_info": {
   "codemirror_mode": {
    "name": "ipython",
    "version": 3
   },
   "file_extension": ".py",
   "mimetype": "text/x-python",
   "name": "python",
   "nbconvert_exporter": "python",
   "pygments_lexer": "ipython3",
   "version": "3.10.16"
  }
 },
 "nbformat": 4,
 "nbformat_minor": 5
}
