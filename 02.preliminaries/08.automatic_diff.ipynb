{
 "cells": [
  {
   "cell_type": "code",
   "execution_count": null,
   "id": "fe11fc21",
   "metadata": {},
   "outputs": [],
   "source": [
    "import torch"
   ]
  },
  {
   "cell_type": "code",
   "execution_count": null,
   "id": "b5a520ed",
   "metadata": {},
   "outputs": [],
   "source": [
    "x = torch.arange(4.0)\n",
    "print(x)\n",
    "x.requires_grad_(True)\n",
    "x.grad #The grdient is None because we have not performed backpropagation yet\n",
    "#function of x asigned to y \n",
    "y = 2 * torch.dot(x, x)\n",
    "print(y)\n",
    "y.backward() #Computes the gradient of y with respect to x\n",
    "print(x.grad) #The gradient is now available in x.grad\n",
    "\n"
   ]
  },
  {
   "cell_type": "code",
   "execution_count": null,
   "id": "da916548",
   "metadata": {},
   "outputs": [],
   "source": [
    "#For verification \n",
    "print(x.grad == 4 * x)\n",
    "\n",
    "#NOTE: pytorch didn't automatically reset the gradient buffer when we record an new gradient]\n",
    "#To reset the gradient buffer, we can use the zero_ function\n",
    "x.grad.zero_()\n",
    "y = x.sum()\n",
    "y.backward()\n",
    "print(x.grad)\n",
    "\n"
   ]
  }
 ],
 "metadata": {
  "kernelspec": {
   "display_name": ".venv",
   "language": "python",
   "name": "python3"
  },
  "language_info": {
   "codemirror_mode": {
    "name": "ipython",
    "version": 3
   },
   "file_extension": ".py",
   "mimetype": "text/x-python",
   "name": "python",
   "nbconvert_exporter": "python",
   "pygments_lexer": "ipython3",
   "version": "3.10.16"
  }
 },
 "nbformat": 4,
 "nbformat_minor": 5
}
